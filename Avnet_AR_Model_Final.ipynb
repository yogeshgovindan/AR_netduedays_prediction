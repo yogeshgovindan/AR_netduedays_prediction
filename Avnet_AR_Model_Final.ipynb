{
 "cells": [
  {
   "cell_type": "code",
   "execution_count": 1,
   "metadata": {},
   "outputs": [],
   "source": [
    "# import ibm_db\n",
    "# import ibm_db_dbi"
   ]
  },
  {
   "cell_type": "code",
   "execution_count": 2,
   "metadata": {},
   "outputs": [],
   "source": [
    "# dsn_hostname = \"dal09anadbd1.na.ibm.net\" # e.g.: \"dashdb-txn-sbox-yp-dal09-04.services.dal.bluemix.net\"\n",
    "# dsn_uid = \"#######\" # e.g. \"abc12345\"\n",
    "# dsn_pwd = \"############\" # e.g. \"7dBZ3wWt9XN6$o0J\"\n",
    "# dsn_driver = \"{IBM DB2 ODBC DRIVER}\"\n",
    "# dsn_database = \"POCDB\"            # e.g. \"BLUDB\"\n",
    "# dsn_port = \"60002\"                # e.g. \"50000\" \n",
    "# dsn_protocol = \"TCPIP\""
   ]
  },
  {
   "cell_type": "code",
   "execution_count": 3,
   "metadata": {},
   "outputs": [],
   "source": [
    "# dsn = (\n",
    "#     \"DRIVER={0};\"\n",
    "#     \"DATABASE={1};\"\n",
    "#     \"HOSTNAME={2};\"\n",
    "#     \"PORT={3};\"\n",
    "#     \"PROTOCOL={4};\"\n",
    "#     \"UID={5};\"\n",
    "#     \"PWD={6};\").format(dsn_driver, dsn_database, dsn_hostname, dsn_port, dsn_protocol,dsn_uid, dsn_pwd)"
   ]
  },
  {
   "cell_type": "code",
   "execution_count": 4,
   "metadata": {},
   "outputs": [],
   "source": [
    "# try:\n",
    "#     conn = ibm_db.pconnect(dsn, \"\", \"\")\n",
    "#     print (\"Connected to database: \", dsn_database, \"as user: \", dsn_uid, \"on host: \", dsn_hostname)\n",
    "\n",
    "# except:\n",
    "#     print (\"Unable to connect: \", ibm_db.conn_errormsg() )\n",
    "    \n",
    "# ibm_db.close(conn)\n",
    "\n",
    "\n",
    "\n",
    "# from ibmdbpy import IdaDataBase, IdaDataFrame\n",
    "# pconn = ibm_db_dbi.Connection(conn)\n"
   ]
  },
  {
   "cell_type": "code",
   "execution_count": 5,
   "metadata": {},
   "outputs": [],
   "source": [
    "\n",
    "import time \n",
    "import random \n",
    "import datetime\n",
    "from datetime import date\n",
    "import pandas as pd \n",
    "import matplotlib.pyplot as plt \n",
    "import statistics \n",
    "import numpy as np \n",
    "from scipy import stats \n",
    "from sklearn.model_selection import train_test_split\n",
    "from sklearn.linear_model import LinearRegression\n",
    "from sklearn.ensemble import RandomForestRegressor\n",
    "from sklearn.metrics import mean_squared_error\n",
    "import seaborn as sns\n",
    "from IPython.display import Image\n",
    "from scipy.stats import pointbiserialr\n",
    "pd.options.display.float_format = '{:.2f}'.format\n",
    "#setting dimensions for plot\n",
    "sns.set(rc={'figure.figsize':(11.7,8.27)})\n",
    "pd.options.mode.chained_assignment = None  # default='warn'"
   ]
  },
  {
   "cell_type": "code",
   "execution_count": 6,
   "metadata": {},
   "outputs": [
    {
     "name": "stderr",
     "output_type": "stream",
     "text": [
      "C:\\Users\\YogeshGovindan\\Anaconda3\\lib\\site-packages\\numpy\\lib\\arraysetops.py:580: FutureWarning: elementwise comparison failed; returning scalar instead, but in the future will perform elementwise comparison\n",
      "  mask |= (ar1 == a)\n"
     ]
    }
   ],
   "source": [
    "ar_AR_sample=pd.read_csv(\"C:/Users/YogeshGovindan/Desktop/AVNET/Model/AVENT.AR_REGRESSION.csv\",index_col=0)"
   ]
  },
  {
   "cell_type": "code",
   "execution_count": 7,
   "metadata": {},
   "outputs": [],
   "source": [
    "#creating copy\n",
    "ar_data=ar_AR_sample.copy()"
   ]
  },
  {
   "cell_type": "code",
   "execution_count": 8,
   "metadata": {},
   "outputs": [
    {
     "data": {
      "text/plain": [
       "Index(['DOCUMENTNO', 'ITEMNO', 'CUSTOMER', 'COMPCODE', 'PAY_TERM', 'DOC_TYPE',\n",
       "       'DOC_DATE', 'POSTINGDATE', 'NETDUEDATE', 'CLEARINGDA', 'AGING',\n",
       "       'AGING_BUCKET', 'PAYMENT_FLAG', 'AMOUNT', 'SEG_NUM_OVERDUE_INVOICES',\n",
       "       'SEG_NUM_OPEN_INVOICES', 'SEG_DDSO', 'SEG_DSO', 'SEG_AVERAGE_DAYS_LATE',\n",
       "       'SEG_RISK_DEFAULT_VAL', 'SEG_RISK_DEFAULT', 'SEG_PRIORITY_VAL',\n",
       "       'SEG_PRIORITY', 'SEG_PROP_PAY_VAL', 'SEG_PROP_PAY'],\n",
       "      dtype='object')"
      ]
     },
     "execution_count": 8,
     "metadata": {},
     "output_type": "execute_result"
    }
   ],
   "source": [
    "ar_data.columns"
   ]
  },
  {
   "cell_type": "code",
   "execution_count": 9,
   "metadata": {},
   "outputs": [],
   "source": [
    "# relative frequency of the missings per column\n",
    "#missing=pd.DataFrame(ar_data.isna().sum()/(len(ar_data))*100)"
   ]
  },
  {
   "cell_type": "code",
   "execution_count": 10,
   "metadata": {},
   "outputs": [],
   "source": [
    "#missing"
   ]
  },
  {
   "cell_type": "code",
   "execution_count": 11,
   "metadata": {},
   "outputs": [],
   "source": [
    "#dropping unwanted columns and Missing columns\n",
    "col=['SEG_RISK_DEFAULT','SEG_PROP_PAY_VAL','ITEMNO']\n",
    "ar_data=ar_data.drop(columns=col,axis=1)"
   ]
  },
  {
   "cell_type": "code",
   "execution_count": 12,
   "metadata": {},
   "outputs": [],
   "source": [
    "ar_data['DOC_DATE']=pd.to_datetime(ar_data['DOC_DATE'])\n",
    "ar_data['POSTINGDATE']=pd.to_datetime(ar_data['POSTINGDATE'])\n",
    "ar_data['NETDUEDATE']=pd.to_datetime(ar_data['NETDUEDATE'])\n",
    "ar_data['CLEARINGDA']=pd.to_datetime(ar_data['CLEARINGDA'])"
   ]
  },
  {
   "cell_type": "code",
   "execution_count": 13,
   "metadata": {},
   "outputs": [],
   "source": [
    "ar_data['cleardate_year']=pd.DatetimeIndex(ar_data['CLEARINGDA']).year\n",
    "ar_data['doc_date_year']=pd.DatetimeIndex(ar_data['DOC_DATE']).year"
   ]
  },
  {
   "cell_type": "code",
   "execution_count": 14,
   "metadata": {},
   "outputs": [],
   "source": [
    "ar_data['Invoice_cycle']=ar_data['CLEARINGDA']-ar_data['DOC_DATE']"
   ]
  },
  {
   "cell_type": "code",
   "execution_count": 15,
   "metadata": {},
   "outputs": [],
   "source": [
    "ar_data['Invoice_cycle'] = ar_data['Invoice_cycle'].dt.days.astype('int16')"
   ]
  },
  {
   "cell_type": "code",
   "execution_count": 16,
   "metadata": {},
   "outputs": [
    {
     "data": {
      "text/plain": [
       "69.62044337850979"
      ]
     },
     "execution_count": 16,
     "metadata": {},
     "output_type": "execute_result"
    }
   ],
   "source": [
    "ar_data['Invoice_cycle'].mean()"
   ]
  },
  {
   "cell_type": "code",
   "execution_count": 17,
   "metadata": {},
   "outputs": [],
   "source": [
    "ar_data['NETDUEDATE_year']=pd.DatetimeIndex(ar_data['NETDUEDATE']).year"
   ]
  },
  {
   "cell_type": "code",
   "execution_count": 18,
   "metadata": {},
   "outputs": [
    {
     "data": {
      "text/plain": [
       "2016        374\n",
       "2017       5001\n",
       "2018     362465\n",
       "2019    1470343\n",
       "2020     969092\n",
       "2021       2153\n",
       "Name: NETDUEDATE_year, dtype: int64"
      ]
     },
     "execution_count": 18,
     "metadata": {},
     "output_type": "execute_result"
    }
   ],
   "source": [
    "ar_data['NETDUEDATE_year'].value_counts().sort_index()"
   ]
  },
  {
   "cell_type": "code",
   "execution_count": 19,
   "metadata": {},
   "outputs": [
    {
     "data": {
      "text/plain": [
       "NETDUEDATE_year\n",
       "2016   -0.05\n",
       "2017   -0.43\n",
       "2018   -0.34\n",
       "2019    1.04\n",
       "2020    0.75\n",
       "2021    0.03\n",
       "Name: AGING, dtype: float64"
      ]
     },
     "execution_count": 19,
     "metadata": {},
     "output_type": "execute_result"
    }
   ],
   "source": [
    "ar_data.groupby('NETDUEDATE_year')['AGING'].sum()/ar_data['AGING'].sum()"
   ]
  },
  {
   "cell_type": "markdown",
   "metadata": {},
   "source": [
    "# AGING"
   ]
  },
  {
   "cell_type": "code",
   "execution_count": 20,
   "metadata": {},
   "outputs": [
    {
     "data": {
      "text/plain": [
       "AGING_BUCKET\n",
       "A_6 AND BEFORE DAYS    0.29\n",
       "B_0 TO 5 BEFORE DAYS   0.19\n",
       "C_1 TO 5 DAYS          0.22\n",
       "D_6 TO 10 DAYS         0.12\n",
       "E_11 TO 30 DAYS        0.13\n",
       "F_31 TO 60 DAYS        0.03\n",
       "G_61 TO 90 DAYS        0.01\n",
       "H_>90 DAYS             0.01\n",
       "Name: AMOUNT, dtype: float64"
      ]
     },
     "execution_count": 20,
     "metadata": {},
     "output_type": "execute_result"
    }
   ],
   "source": [
    "ar_data.groupby('AGING_BUCKET')['AMOUNT'].sum()/ar_data['AMOUNT'].sum()"
   ]
  },
  {
   "cell_type": "code",
   "execution_count": 21,
   "metadata": {},
   "outputs": [
    {
     "data": {
      "text/plain": [
       "EARLY    0.53\n",
       "LATE     0.41\n",
       "ONTIME   0.06\n",
       "Name: PAYMENT_FLAG, dtype: float64"
      ]
     },
     "execution_count": 21,
     "metadata": {},
     "output_type": "execute_result"
    }
   ],
   "source": [
    "ar_data['PAYMENT_FLAG'].value_counts(normalize=True) "
   ]
  },
  {
   "cell_type": "markdown",
   "metadata": {},
   "source": [
    "# Creating Amount Bucket"
   ]
  },
  {
   "cell_type": "code",
   "execution_count": 22,
   "metadata": {},
   "outputs": [],
   "source": [
    "ar_data['Amount_qcut']=pd.qcut(ar_data['AMOUNT'],q=[-1,0.25,0.75,1])"
   ]
  },
  {
   "cell_type": "code",
   "execution_count": 23,
   "metadata": {},
   "outputs": [
    {
     "data": {
      "text/plain": [
       "(61.5, 1200.0]          1405700\n",
       "(-4800000.001, 61.5]     702358\n",
       "(1200.0, 21720086.0]     701369\n",
       "Name: Amount_qcut, dtype: int64"
      ]
     },
     "execution_count": 23,
     "metadata": {},
     "output_type": "execute_result"
    }
   ],
   "source": [
    "ar_data['Amount_qcut'].value_counts()"
   ]
  },
  {
   "cell_type": "code",
   "execution_count": 24,
   "metadata": {},
   "outputs": [],
   "source": [
    "def Amntbucket(AMOUNT):\n",
    "    if AMOUNT<=61.5:\n",
    "        return 'Low_value'\n",
    "    elif AMOUNT>61.5and AMOUNT<=1200.0:\n",
    "        return 'Medium'\n",
    "    else: return 'High_value'"
   ]
  },
  {
   "cell_type": "code",
   "execution_count": 25,
   "metadata": {},
   "outputs": [],
   "source": [
    "ar_data['AMOUNT_BUCKET']=ar_data.apply(lambda x:Amntbucket(x['AMOUNT']),axis=1)"
   ]
  },
  {
   "cell_type": "code",
   "execution_count": 26,
   "metadata": {},
   "outputs": [
    {
     "data": {
      "text/plain": [
       "Medium       0.50\n",
       "Low_value    0.25\n",
       "High_value   0.25\n",
       "Name: AMOUNT_BUCKET, dtype: float64"
      ]
     },
     "execution_count": 26,
     "metadata": {},
     "output_type": "execute_result"
    }
   ],
   "source": [
    "ar_data['AMOUNT_BUCKET'].value_counts(normalize=True)"
   ]
  },
  {
   "cell_type": "code",
   "execution_count": 27,
   "metadata": {},
   "outputs": [],
   "source": [
    "ar_new=ar_data # creating a copy of the data"
   ]
  },
  {
   "cell_type": "code",
   "execution_count": 28,
   "metadata": {},
   "outputs": [],
   "source": [
    "cust_summary = ar_new.groupby('CUSTOMER') \\\n",
    "       .agg({'DOCUMENTNO':'size', 'AMOUNT':'mean','AGING':'mean','Invoice_cycle':'mean'}) \\\n",
    "       .rename(columns={'DOCUMENTNO':'DOCUMENTNO_COUNT','AMOUNT':'AMOUNT_AVG','AGING':'AGING_AVG','Invoice_cycle':'Invoice_cycle_AVG'}) \\\n",
    "       .reset_index()"
   ]
  },
  {
   "cell_type": "code",
   "execution_count": 29,
   "metadata": {},
   "outputs": [],
   "source": [
    "AR_data_merg=pd.merge(ar_new,cust_summary,on='CUSTOMER',how='left')"
   ]
  },
  {
   "cell_type": "code",
   "execution_count": 30,
   "metadata": {},
   "outputs": [],
   "source": [
    "#droppns and Missing columns\n",
    "col1=['DOCUMENTNO','AGING_BUCKET','PAYMENT_FLAG','CUSTOMER','AMOUNT','COMPCODE','DOC_TYPE','DOC_DATE','POSTINGDATE','NETDUEDATE','CLEARINGDA','cleardate_year','doc_date_year','SEG_PRIORITY','Amount_qcut']\n",
    "AR_data_merg1=AR_data_merg.drop(columns=col1,axis=1)"
   ]
  },
  {
   "cell_type": "code",
   "execution_count": 31,
   "metadata": {},
   "outputs": [
    {
     "data": {
      "text/html": [
       "<div>\n",
       "<style scoped>\n",
       "    .dataframe tbody tr th:only-of-type {\n",
       "        vertical-align: middle;\n",
       "    }\n",
       "\n",
       "    .dataframe tbody tr th {\n",
       "        vertical-align: top;\n",
       "    }\n",
       "\n",
       "    .dataframe thead th {\n",
       "        text-align: right;\n",
       "    }\n",
       "</style>\n",
       "<table border=\"1\" class=\"dataframe\">\n",
       "  <thead>\n",
       "    <tr style=\"text-align: right;\">\n",
       "      <th></th>\n",
       "      <th>AGING</th>\n",
       "      <th>SEG_NUM_OVERDUE_INVOICES</th>\n",
       "      <th>SEG_NUM_OPEN_INVOICES</th>\n",
       "      <th>SEG_DDSO</th>\n",
       "      <th>SEG_DSO</th>\n",
       "      <th>SEG_AVERAGE_DAYS_LATE</th>\n",
       "      <th>SEG_RISK_DEFAULT_VAL</th>\n",
       "      <th>SEG_PRIORITY_VAL</th>\n",
       "      <th>Invoice_cycle</th>\n",
       "      <th>NETDUEDATE_year</th>\n",
       "      <th>DOCUMENTNO_COUNT</th>\n",
       "      <th>AMOUNT_AVG</th>\n",
       "      <th>AGING_AVG</th>\n",
       "      <th>Invoice_cycle_AVG</th>\n",
       "    </tr>\n",
       "  </thead>\n",
       "  <tbody>\n",
       "    <tr>\n",
       "      <th>AGING</th>\n",
       "      <td>1.00</td>\n",
       "      <td>0.02</td>\n",
       "      <td>-0.01</td>\n",
       "      <td>0.04</td>\n",
       "      <td>0.04</td>\n",
       "      <td>0.41</td>\n",
       "      <td>0.16</td>\n",
       "      <td>0.03</td>\n",
       "      <td>0.73</td>\n",
       "      <td>-0.17</td>\n",
       "      <td>0.00</td>\n",
       "      <td>0.01</td>\n",
       "      <td>0.50</td>\n",
       "      <td>0.20</td>\n",
       "    </tr>\n",
       "    <tr>\n",
       "      <th>SEG_NUM_OVERDUE_INVOICES</th>\n",
       "      <td>0.02</td>\n",
       "      <td>1.00</td>\n",
       "      <td>0.84</td>\n",
       "      <td>-0.01</td>\n",
       "      <td>0.01</td>\n",
       "      <td>0.02</td>\n",
       "      <td>-0.01</td>\n",
       "      <td>0.56</td>\n",
       "      <td>0.37</td>\n",
       "      <td>-0.04</td>\n",
       "      <td>0.80</td>\n",
       "      <td>-0.07</td>\n",
       "      <td>0.05</td>\n",
       "      <td>0.52</td>\n",
       "    </tr>\n",
       "    <tr>\n",
       "      <th>SEG_NUM_OPEN_INVOICES</th>\n",
       "      <td>-0.01</td>\n",
       "      <td>0.84</td>\n",
       "      <td>1.00</td>\n",
       "      <td>-0.01</td>\n",
       "      <td>0.01</td>\n",
       "      <td>-0.07</td>\n",
       "      <td>-0.18</td>\n",
       "      <td>0.52</td>\n",
       "      <td>0.41</td>\n",
       "      <td>-0.04</td>\n",
       "      <td>0.88</td>\n",
       "      <td>-0.08</td>\n",
       "      <td>-0.01</td>\n",
       "      <td>0.57</td>\n",
       "    </tr>\n",
       "    <tr>\n",
       "      <th>SEG_DDSO</th>\n",
       "      <td>0.04</td>\n",
       "      <td>-0.01</td>\n",
       "      <td>-0.01</td>\n",
       "      <td>1.00</td>\n",
       "      <td>1.00</td>\n",
       "      <td>0.13</td>\n",
       "      <td>0.20</td>\n",
       "      <td>0.01</td>\n",
       "      <td>0.03</td>\n",
       "      <td>-0.02</td>\n",
       "      <td>-0.01</td>\n",
       "      <td>-0.00</td>\n",
       "      <td>0.08</td>\n",
       "      <td>0.04</td>\n",
       "    </tr>\n",
       "    <tr>\n",
       "      <th>SEG_DSO</th>\n",
       "      <td>0.04</td>\n",
       "      <td>0.01</td>\n",
       "      <td>0.01</td>\n",
       "      <td>1.00</td>\n",
       "      <td>1.00</td>\n",
       "      <td>0.14</td>\n",
       "      <td>0.20</td>\n",
       "      <td>0.03</td>\n",
       "      <td>0.06</td>\n",
       "      <td>-0.02</td>\n",
       "      <td>-0.00</td>\n",
       "      <td>-0.00</td>\n",
       "      <td>0.08</td>\n",
       "      <td>0.08</td>\n",
       "    </tr>\n",
       "    <tr>\n",
       "      <th>SEG_AVERAGE_DAYS_LATE</th>\n",
       "      <td>0.41</td>\n",
       "      <td>0.02</td>\n",
       "      <td>-0.07</td>\n",
       "      <td>0.13</td>\n",
       "      <td>0.14</td>\n",
       "      <td>1.00</td>\n",
       "      <td>0.35</td>\n",
       "      <td>0.06</td>\n",
       "      <td>0.22</td>\n",
       "      <td>-0.05</td>\n",
       "      <td>-0.07</td>\n",
       "      <td>0.03</td>\n",
       "      <td>0.93</td>\n",
       "      <td>0.31</td>\n",
       "    </tr>\n",
       "    <tr>\n",
       "      <th>SEG_RISK_DEFAULT_VAL</th>\n",
       "      <td>0.16</td>\n",
       "      <td>-0.01</td>\n",
       "      <td>-0.18</td>\n",
       "      <td>0.20</td>\n",
       "      <td>0.20</td>\n",
       "      <td>0.35</td>\n",
       "      <td>1.00</td>\n",
       "      <td>0.10</td>\n",
       "      <td>0.03</td>\n",
       "      <td>-0.03</td>\n",
       "      <td>-0.19</td>\n",
       "      <td>0.01</td>\n",
       "      <td>0.35</td>\n",
       "      <td>0.05</td>\n",
       "    </tr>\n",
       "    <tr>\n",
       "      <th>SEG_PRIORITY_VAL</th>\n",
       "      <td>0.03</td>\n",
       "      <td>0.56</td>\n",
       "      <td>0.52</td>\n",
       "      <td>0.01</td>\n",
       "      <td>0.03</td>\n",
       "      <td>0.06</td>\n",
       "      <td>0.10</td>\n",
       "      <td>1.00</td>\n",
       "      <td>0.30</td>\n",
       "      <td>-0.01</td>\n",
       "      <td>0.46</td>\n",
       "      <td>-0.03</td>\n",
       "      <td>0.07</td>\n",
       "      <td>0.43</td>\n",
       "    </tr>\n",
       "    <tr>\n",
       "      <th>Invoice_cycle</th>\n",
       "      <td>0.73</td>\n",
       "      <td>0.37</td>\n",
       "      <td>0.41</td>\n",
       "      <td>0.03</td>\n",
       "      <td>0.06</td>\n",
       "      <td>0.22</td>\n",
       "      <td>0.03</td>\n",
       "      <td>0.30</td>\n",
       "      <td>1.00</td>\n",
       "      <td>-0.14</td>\n",
       "      <td>0.27</td>\n",
       "      <td>-0.03</td>\n",
       "      <td>0.28</td>\n",
       "      <td>0.72</td>\n",
       "    </tr>\n",
       "    <tr>\n",
       "      <th>NETDUEDATE_year</th>\n",
       "      <td>-0.17</td>\n",
       "      <td>-0.04</td>\n",
       "      <td>-0.04</td>\n",
       "      <td>-0.02</td>\n",
       "      <td>-0.02</td>\n",
       "      <td>-0.05</td>\n",
       "      <td>-0.03</td>\n",
       "      <td>-0.01</td>\n",
       "      <td>-0.14</td>\n",
       "      <td>1.00</td>\n",
       "      <td>-0.05</td>\n",
       "      <td>0.01</td>\n",
       "      <td>-0.08</td>\n",
       "      <td>-0.05</td>\n",
       "    </tr>\n",
       "    <tr>\n",
       "      <th>DOCUMENTNO_COUNT</th>\n",
       "      <td>0.00</td>\n",
       "      <td>0.80</td>\n",
       "      <td>0.88</td>\n",
       "      <td>-0.01</td>\n",
       "      <td>-0.00</td>\n",
       "      <td>-0.07</td>\n",
       "      <td>-0.19</td>\n",
       "      <td>0.46</td>\n",
       "      <td>0.27</td>\n",
       "      <td>-0.05</td>\n",
       "      <td>1.00</td>\n",
       "      <td>-0.07</td>\n",
       "      <td>0.00</td>\n",
       "      <td>0.38</td>\n",
       "    </tr>\n",
       "    <tr>\n",
       "      <th>AMOUNT_AVG</th>\n",
       "      <td>0.01</td>\n",
       "      <td>-0.07</td>\n",
       "      <td>-0.08</td>\n",
       "      <td>-0.00</td>\n",
       "      <td>-0.00</td>\n",
       "      <td>0.03</td>\n",
       "      <td>0.01</td>\n",
       "      <td>-0.03</td>\n",
       "      <td>-0.03</td>\n",
       "      <td>0.01</td>\n",
       "      <td>-0.07</td>\n",
       "      <td>1.00</td>\n",
       "      <td>0.02</td>\n",
       "      <td>-0.04</td>\n",
       "    </tr>\n",
       "    <tr>\n",
       "      <th>AGING_AVG</th>\n",
       "      <td>0.50</td>\n",
       "      <td>0.05</td>\n",
       "      <td>-0.01</td>\n",
       "      <td>0.08</td>\n",
       "      <td>0.08</td>\n",
       "      <td>0.93</td>\n",
       "      <td>0.35</td>\n",
       "      <td>0.07</td>\n",
       "      <td>0.28</td>\n",
       "      <td>-0.08</td>\n",
       "      <td>0.00</td>\n",
       "      <td>0.02</td>\n",
       "      <td>1.00</td>\n",
       "      <td>0.39</td>\n",
       "    </tr>\n",
       "    <tr>\n",
       "      <th>Invoice_cycle_AVG</th>\n",
       "      <td>0.20</td>\n",
       "      <td>0.52</td>\n",
       "      <td>0.57</td>\n",
       "      <td>0.04</td>\n",
       "      <td>0.08</td>\n",
       "      <td>0.31</td>\n",
       "      <td>0.05</td>\n",
       "      <td>0.43</td>\n",
       "      <td>0.72</td>\n",
       "      <td>-0.05</td>\n",
       "      <td>0.38</td>\n",
       "      <td>-0.04</td>\n",
       "      <td>0.39</td>\n",
       "      <td>1.00</td>\n",
       "    </tr>\n",
       "  </tbody>\n",
       "</table>\n",
       "</div>"
      ],
      "text/plain": [
       "                          AGING  SEG_NUM_OVERDUE_INVOICES  \\\n",
       "AGING                      1.00                      0.02   \n",
       "SEG_NUM_OVERDUE_INVOICES   0.02                      1.00   \n",
       "SEG_NUM_OPEN_INVOICES     -0.01                      0.84   \n",
       "SEG_DDSO                   0.04                     -0.01   \n",
       "SEG_DSO                    0.04                      0.01   \n",
       "SEG_AVERAGE_DAYS_LATE      0.41                      0.02   \n",
       "SEG_RISK_DEFAULT_VAL       0.16                     -0.01   \n",
       "SEG_PRIORITY_VAL           0.03                      0.56   \n",
       "Invoice_cycle              0.73                      0.37   \n",
       "NETDUEDATE_year           -0.17                     -0.04   \n",
       "DOCUMENTNO_COUNT           0.00                      0.80   \n",
       "AMOUNT_AVG                 0.01                     -0.07   \n",
       "AGING_AVG                  0.50                      0.05   \n",
       "Invoice_cycle_AVG          0.20                      0.52   \n",
       "\n",
       "                          SEG_NUM_OPEN_INVOICES  SEG_DDSO  SEG_DSO  \\\n",
       "AGING                                     -0.01      0.04     0.04   \n",
       "SEG_NUM_OVERDUE_INVOICES                   0.84     -0.01     0.01   \n",
       "SEG_NUM_OPEN_INVOICES                      1.00     -0.01     0.01   \n",
       "SEG_DDSO                                  -0.01      1.00     1.00   \n",
       "SEG_DSO                                    0.01      1.00     1.00   \n",
       "SEG_AVERAGE_DAYS_LATE                     -0.07      0.13     0.14   \n",
       "SEG_RISK_DEFAULT_VAL                      -0.18      0.20     0.20   \n",
       "SEG_PRIORITY_VAL                           0.52      0.01     0.03   \n",
       "Invoice_cycle                              0.41      0.03     0.06   \n",
       "NETDUEDATE_year                           -0.04     -0.02    -0.02   \n",
       "DOCUMENTNO_COUNT                           0.88     -0.01    -0.00   \n",
       "AMOUNT_AVG                                -0.08     -0.00    -0.00   \n",
       "AGING_AVG                                 -0.01      0.08     0.08   \n",
       "Invoice_cycle_AVG                          0.57      0.04     0.08   \n",
       "\n",
       "                          SEG_AVERAGE_DAYS_LATE  SEG_RISK_DEFAULT_VAL  \\\n",
       "AGING                                      0.41                  0.16   \n",
       "SEG_NUM_OVERDUE_INVOICES                   0.02                 -0.01   \n",
       "SEG_NUM_OPEN_INVOICES                     -0.07                 -0.18   \n",
       "SEG_DDSO                                   0.13                  0.20   \n",
       "SEG_DSO                                    0.14                  0.20   \n",
       "SEG_AVERAGE_DAYS_LATE                      1.00                  0.35   \n",
       "SEG_RISK_DEFAULT_VAL                       0.35                  1.00   \n",
       "SEG_PRIORITY_VAL                           0.06                  0.10   \n",
       "Invoice_cycle                              0.22                  0.03   \n",
       "NETDUEDATE_year                           -0.05                 -0.03   \n",
       "DOCUMENTNO_COUNT                          -0.07                 -0.19   \n",
       "AMOUNT_AVG                                 0.03                  0.01   \n",
       "AGING_AVG                                  0.93                  0.35   \n",
       "Invoice_cycle_AVG                          0.31                  0.05   \n",
       "\n",
       "                          SEG_PRIORITY_VAL  Invoice_cycle  NETDUEDATE_year  \\\n",
       "AGING                                 0.03           0.73            -0.17   \n",
       "SEG_NUM_OVERDUE_INVOICES              0.56           0.37            -0.04   \n",
       "SEG_NUM_OPEN_INVOICES                 0.52           0.41            -0.04   \n",
       "SEG_DDSO                              0.01           0.03            -0.02   \n",
       "SEG_DSO                               0.03           0.06            -0.02   \n",
       "SEG_AVERAGE_DAYS_LATE                 0.06           0.22            -0.05   \n",
       "SEG_RISK_DEFAULT_VAL                  0.10           0.03            -0.03   \n",
       "SEG_PRIORITY_VAL                      1.00           0.30            -0.01   \n",
       "Invoice_cycle                         0.30           1.00            -0.14   \n",
       "NETDUEDATE_year                      -0.01          -0.14             1.00   \n",
       "DOCUMENTNO_COUNT                      0.46           0.27            -0.05   \n",
       "AMOUNT_AVG                           -0.03          -0.03             0.01   \n",
       "AGING_AVG                             0.07           0.28            -0.08   \n",
       "Invoice_cycle_AVG                     0.43           0.72            -0.05   \n",
       "\n",
       "                          DOCUMENTNO_COUNT  AMOUNT_AVG  AGING_AVG  \\\n",
       "AGING                                 0.00        0.01       0.50   \n",
       "SEG_NUM_OVERDUE_INVOICES              0.80       -0.07       0.05   \n",
       "SEG_NUM_OPEN_INVOICES                 0.88       -0.08      -0.01   \n",
       "SEG_DDSO                             -0.01       -0.00       0.08   \n",
       "SEG_DSO                              -0.00       -0.00       0.08   \n",
       "SEG_AVERAGE_DAYS_LATE                -0.07        0.03       0.93   \n",
       "SEG_RISK_DEFAULT_VAL                 -0.19        0.01       0.35   \n",
       "SEG_PRIORITY_VAL                      0.46       -0.03       0.07   \n",
       "Invoice_cycle                         0.27       -0.03       0.28   \n",
       "NETDUEDATE_year                      -0.05        0.01      -0.08   \n",
       "DOCUMENTNO_COUNT                      1.00       -0.07       0.00   \n",
       "AMOUNT_AVG                           -0.07        1.00       0.02   \n",
       "AGING_AVG                             0.00        0.02       1.00   \n",
       "Invoice_cycle_AVG                     0.38       -0.04       0.39   \n",
       "\n",
       "                          Invoice_cycle_AVG  \n",
       "AGING                                  0.20  \n",
       "SEG_NUM_OVERDUE_INVOICES               0.52  \n",
       "SEG_NUM_OPEN_INVOICES                  0.57  \n",
       "SEG_DDSO                               0.04  \n",
       "SEG_DSO                                0.08  \n",
       "SEG_AVERAGE_DAYS_LATE                  0.31  \n",
       "SEG_RISK_DEFAULT_VAL                   0.05  \n",
       "SEG_PRIORITY_VAL                       0.43  \n",
       "Invoice_cycle                          0.72  \n",
       "NETDUEDATE_year                       -0.05  \n",
       "DOCUMENTNO_COUNT                       0.38  \n",
       "AMOUNT_AVG                            -0.04  \n",
       "AGING_AVG                              0.39  \n",
       "Invoice_cycle_AVG                      1.00  "
      ]
     },
     "execution_count": 31,
     "metadata": {},
     "output_type": "execute_result"
    }
   ],
   "source": [
    "#Correlation\n",
    "AR_data_merg1_select1=AR_data_merg1.select_dtypes(exclude=[object])\n",
    "correlation=AR_data_merg1.corr()\n",
    "round(correlation,3)"
   ]
  },
  {
   "cell_type": "code",
   "execution_count": 32,
   "metadata": {},
   "outputs": [],
   "source": [
    "# #Correlation Plot\n",
    "# f = plt.figure(figsize=(15, 11))\n",
    "# plt.matshow(AR_data_merg1_select1.corr(), fignum=f.number)\n",
    "# plt.xticks(range(AR_data_merg1_select1.shape[1]), AR_data_merg1_select1.columns, fontsize=14, rotation=45)\n",
    "# plt.yticks(range(AR_data_merg1_select1.shape[1]), AR_data_merg1_select1.columns, fontsize=14)\n",
    "# cb = plt.colorbar()\n",
    "# cb.ax.tick_params(labelsize=10)\n",
    "# plt.title('Correlation Matrix', fontsize=13);"
   ]
  },
  {
   "cell_type": "code",
   "execution_count": 33,
   "metadata": {},
   "outputs": [
    {
     "data": {
      "image/png": "[encoded data removed]",
      "text/plain": [
       "<Figure size 1800x1440 with 2 Axes>"
      ]
     },
     "metadata": {
      "needs_background": "light"
     },
     "output_type": "display_data"
    }
   ],
   "source": [
    "##Correlation Plot\n",
    "plt.figure(figsize = (25, 20))\n",
    "AR_corrplot=sns.heatmap(AR_data_merg1_select1.corr(),vmin=AR_data_merg1_select1.values.min(),vmax=1,square=True,\n",
    "            linewidths=0.1,annot = True,fmt=\".1%\",annot_kws={\"size\":15},cmap=\"YlGnBu\")\n",
    "plt.show()\n",
    "AR_corrplot.figure.savefig('C:/Users/YogeshGovindan/Desktop/AVNET/Model/Model_Image/corrplot_AR.png', bbox_inches='tight', pad_inches=0.0);"
   ]
  },
  {
   "cell_type": "code",
   "execution_count": 34,
   "metadata": {},
   "outputs": [
    {
     "data": {
      "text/plain": [
       "Invoice_cycle              0.73\n",
       "AGING_AVG                  0.50\n",
       "SEG_AVERAGE_DAYS_LATE      0.41\n",
       "Invoice_cycle_AVG          0.20\n",
       "NETDUEDATE_year            0.17\n",
       "SEG_RISK_DEFAULT_VAL       0.16\n",
       "SEG_DSO                    0.04\n",
       "SEG_DDSO                   0.04\n",
       "SEG_PRIORITY_VAL           0.03\n",
       "SEG_NUM_OVERDUE_INVOICES   0.02\n",
       "AMOUNT_AVG                 0.01\n",
       "SEG_NUM_OPEN_INVOICES      0.01\n",
       "DOCUMENTNO_COUNT           0.00\n",
       "Name: AGING, dtype: float64"
      ]
     },
     "execution_count": 34,
     "metadata": {},
     "output_type": "execute_result"
    }
   ],
   "source": [
    "AR_data_merg1_select1.corr().loc[:,'AGING'].abs().sort_values(ascending=False)[1:]"
   ]
  },
  {
   "cell_type": "code",
   "execution_count": 35,
   "metadata": {},
   "outputs": [],
   "source": [
    "##correlation between all columns and remove highly correlated ones using python or pandas\n",
    "import numpy as np\n",
    "\n",
    "# Create correlation matrix\n",
    "corr_matrix = AR_data_merg1_select1.corr().abs()\n",
    "\n",
    "# Select upper triangle of correlation matrix\n",
    "upper = corr_matrix.where(np.triu(np.ones(corr_matrix.shape), k=1).astype(np.bool))\n",
    "\n",
    "# Find features with correlation greater than 0.95\n",
    "to_drop = [column for column in upper.columns if any(upper[column] > 0.80)]"
   ]
  },
  {
   "cell_type": "code",
   "execution_count": 36,
   "metadata": {},
   "outputs": [
    {
     "data": {
      "text/plain": [
       "['SEG_NUM_OPEN_INVOICES', 'SEG_DSO', 'DOCUMENTNO_COUNT', 'AGING_AVG']"
      ]
     },
     "execution_count": 36,
     "metadata": {},
     "output_type": "execute_result"
    }
   ],
   "source": [
    "to_drop"
   ]
  },
  {
   "cell_type": "code",
   "execution_count": 37,
   "metadata": {},
   "outputs": [],
   "source": [
    "#dropping highly correlated independent variables\n",
    "col2=['SEG_DDSO','Invoice_cycle_AVG','AMOUNT_AVG','AGING_AVG','DOCUMENTNO_COUNT','NETDUEDATE_year']\n",
    "AR_omit=AR_data_merg1.drop(columns=col2,axis=1)"
   ]
  },
  {
   "cell_type": "code",
   "execution_count": 38,
   "metadata": {},
   "outputs": [],
   "source": [
    "AR_omit_copy=AR_omit.copy()"
   ]
  },
  {
   "cell_type": "code",
   "execution_count": 39,
   "metadata": {},
   "outputs": [
    {
     "data": {
      "text/plain": [
       "Index(['PAY_TERM', 'AGING', 'SEG_NUM_OVERDUE_INVOICES',\n",
       "       'SEG_NUM_OPEN_INVOICES', 'SEG_DSO', 'SEG_AVERAGE_DAYS_LATE',\n",
       "       'SEG_RISK_DEFAULT_VAL', 'SEG_PRIORITY_VAL', 'SEG_PROP_PAY',\n",
       "       'Invoice_cycle', 'AMOUNT_BUCKET'],\n",
       "      dtype='object')"
      ]
     },
     "execution_count": 39,
     "metadata": {},
     "output_type": "execute_result"
    }
   ],
   "source": [
    "AR_omit_copy.columns"
   ]
  },
  {
   "cell_type": "code",
   "execution_count": 40,
   "metadata": {},
   "outputs": [],
   "source": [
    "#Proportion of values as outlier in Aging\n",
    "q75, q25 = np.percentile(AR_omit_copy['AGING'],[75 ,25]) \n",
    "iqr_aging = q75 - q25 "
   ]
  },
  {
   "cell_type": "code",
   "execution_count": 41,
   "metadata": {},
   "outputs": [
    {
     "data": {
      "text/plain": [
       "53.0"
      ]
     },
     "execution_count": 41,
     "metadata": {},
     "output_type": "execute_result"
    }
   ],
   "source": [
    "q75+3*iqr_aging # Upper limit cut"
   ]
  },
  {
   "cell_type": "code",
   "execution_count": 42,
   "metadata": {},
   "outputs": [
    {
     "data": {
      "text/plain": [
       "-35.0"
      ]
     },
     "execution_count": 42,
     "metadata": {},
     "output_type": "execute_result"
    }
   ],
   "source": [
    "q25-1.5*iqr_aging # Upper limit cut"
   ]
  },
  {
   "cell_type": "markdown",
   "metadata": {},
   "source": [
    "# Importing Open data"
   ]
  },
  {
   "cell_type": "code",
   "execution_count": 43,
   "metadata": {},
   "outputs": [
    {
     "name": "stderr",
     "output_type": "stream",
     "text": [
      "C:\\Users\\YogeshGovindan\\Anaconda3\\lib\\site-packages\\IPython\\core\\interactiveshell.py:3020: DtypeWarning: Columns (53,54) have mixed types.Specify dtype option on import or set low_memory=False.\n",
      "  interactivity=interactivity, compiler=compiler, result=result)\n"
     ]
    }
   ],
   "source": [
    "open_raw=pd.read_csv(\"C:/Users/YogeshGovindan/Desktop/AVNET/Model/ar_open_item_summary1.csv\",index_col=0)"
   ]
  },
  {
   "cell_type": "code",
   "execution_count": 44,
   "metadata": {},
   "outputs": [
    {
     "data": {
      "text/plain": [
       "(276572, 68)"
      ]
     },
     "execution_count": 44,
     "metadata": {},
     "output_type": "execute_result"
    }
   ],
   "source": [
    "open_raw.shape"
   ]
  },
  {
   "cell_type": "code",
   "execution_count": 45,
   "metadata": {},
   "outputs": [],
   "source": [
    "open_raw_no_disp=open_raw[open_raw['DISPUTE_FLAG']=='NO_DISPUTE']  ## NO dispute open data"
   ]
  },
  {
   "cell_type": "code",
   "execution_count": 46,
   "metadata": {},
   "outputs": [],
   "source": [
    "open_raw_disp=open_raw[open_raw['DISPUTE_FLAG']=='DISPUTE']  ## dispute open data"
   ]
  },
  {
   "cell_type": "code",
   "execution_count": 47,
   "metadata": {},
   "outputs": [
    {
     "data": {
      "text/plain": [
       "719814068.1144545"
      ]
     },
     "execution_count": 47,
     "metadata": {},
     "output_type": "execute_result"
    }
   ],
   "source": [
    "open_raw_no_disp['AMOUNT'].sum()"
   ]
  },
  {
   "cell_type": "code",
   "execution_count": 48,
   "metadata": {},
   "outputs": [],
   "source": [
    "open=pd.read_csv(\"C:/Users/YogeshGovindan/Desktop/AVNET/Model/ar_open_reg1.csv\",index_col=0) ## open regression table"
   ]
  },
  {
   "cell_type": "code",
   "execution_count": 49,
   "metadata": {},
   "outputs": [],
   "source": [
    "# relative frequency of the missings per column\n",
    "#missing=pd.DataFrame(open.isna().sum()/(len(open))*100)\n"
   ]
  },
  {
   "cell_type": "code",
   "execution_count": 50,
   "metadata": {},
   "outputs": [],
   "source": [
    "#missing"
   ]
  },
  {
   "cell_type": "code",
   "execution_count": 51,
   "metadata": {},
   "outputs": [],
   "source": [
    "open['CLEARINGDA'] = pd.Timestamp('2020-10-31')"
   ]
  },
  {
   "cell_type": "code",
   "execution_count": 52,
   "metadata": {},
   "outputs": [
    {
     "data": {
      "text/plain": [
       "143"
      ]
     },
     "execution_count": 52,
     "metadata": {},
     "output_type": "execute_result"
    }
   ],
   "source": [
    "open['PAY_TERM'].nunique()"
   ]
  },
  {
   "cell_type": "code",
   "execution_count": 53,
   "metadata": {},
   "outputs": [],
   "source": [
    "open['DOC_DATE']=pd.to_datetime(open['DOC_DATE'])\n",
    "open['POSTINGDATE']=pd.to_datetime(open['POSTINGDATE'])\n",
    "open['NETDUEDATE']=pd.to_datetime(open['NETDUEDATE'])"
   ]
  },
  {
   "cell_type": "code",
   "execution_count": 54,
   "metadata": {},
   "outputs": [],
   "source": [
    "open['NETDUEDATE_year']=pd.DatetimeIndex(open['NETDUEDATE']).year"
   ]
  },
  {
   "cell_type": "code",
   "execution_count": 55,
   "metadata": {},
   "outputs": [
    {
     "data": {
      "text/plain": [
       "2006.00         1\n",
       "2007.00         1\n",
       "2008.00         1\n",
       "2009.00       153\n",
       "2010.00       225\n",
       "2011.00       221\n",
       "2012.00       202\n",
       "2013.00        29\n",
       "2014.00        66\n",
       "2015.00       126\n",
       "2016.00       687\n",
       "2017.00      2372\n",
       "2018.00      7860\n",
       "2019.00     22754\n",
       "2020.00    174542\n",
       "2021.00     61693\n",
       "Name: NETDUEDATE_year, dtype: int64"
      ]
     },
     "execution_count": 55,
     "metadata": {},
     "output_type": "execute_result"
    }
   ],
   "source": [
    "open['NETDUEDATE_year'].value_counts().sort_index()"
   ]
  },
  {
   "cell_type": "code",
   "execution_count": 56,
   "metadata": {},
   "outputs": [],
   "source": [
    "open['Invoice_cycle']=open['CLEARINGDA']-open['DOC_DATE']"
   ]
  },
  {
   "cell_type": "code",
   "execution_count": 57,
   "metadata": {},
   "outputs": [],
   "source": [
    "open['Invoice_cycle'] = open['Invoice_cycle'].dt.days.astype('int16')"
   ]
  },
  {
   "cell_type": "code",
   "execution_count": 58,
   "metadata": {},
   "outputs": [
    {
     "data": {
      "text/plain": [
       "142.73777105209737"
      ]
     },
     "execution_count": 58,
     "metadata": {},
     "output_type": "execute_result"
    }
   ],
   "source": [
    "open['Invoice_cycle'].mean()"
   ]
  },
  {
   "cell_type": "code",
   "execution_count": 59,
   "metadata": {},
   "outputs": [
    {
     "data": {
      "text/plain": [
       "71.72499843134649"
      ]
     },
     "execution_count": 59,
     "metadata": {},
     "output_type": "execute_result"
    }
   ],
   "source": [
    "open['AGING'].mean()"
   ]
  },
  {
   "cell_type": "code",
   "execution_count": 60,
   "metadata": {},
   "outputs": [],
   "source": [
    "open['AMOUNT_BUCKET']=open.apply(lambda x:Amntbucket(x['AMOUNT']),axis=1)"
   ]
  },
  {
   "cell_type": "code",
   "execution_count": 61,
   "metadata": {},
   "outputs": [
    {
     "data": {
      "text/plain": [
       "Medium       0.46\n",
       "Low_value    0.32\n",
       "High_value   0.22\n",
       "Name: AMOUNT_BUCKET, dtype: float64"
      ]
     },
     "execution_count": 61,
     "metadata": {},
     "output_type": "execute_result"
    }
   ],
   "source": [
    "open['AMOUNT_BUCKET'].value_counts(normalize=True)"
   ]
  },
  {
   "cell_type": "code",
   "execution_count": 62,
   "metadata": {},
   "outputs": [
    {
     "data": {
      "text/plain": [
       "AGING_BUCKET\n",
       "A_6 AND BEFORE DAYS    0.85\n",
       "B_0 TO 5 BEFORE DAYS   0.06\n",
       "C_1 TO 5 DAYS          0.03\n",
       "D_6 TO 10 DAYS         0.02\n",
       "E_11 TO 30 DAYS        0.02\n",
       "F_31 TO 60 DAYS        0.01\n",
       "G_61 TO 90 DAYS        0.00\n",
       "H_>90 DAYS             0.00\n",
       "Name: AMOUNT, dtype: float64"
      ]
     },
     "execution_count": 62,
     "metadata": {},
     "output_type": "execute_result"
    }
   ],
   "source": [
    "open.groupby('AGING_BUCKET')['AMOUNT'].sum()/open['AMOUNT'].sum()"
   ]
  },
  {
   "cell_type": "code",
   "execution_count": 63,
   "metadata": {},
   "outputs": [],
   "source": [
    "open_copy=pd.merge(open,cust_summary,on='CUSTOMER',how='left')"
   ]
  },
  {
   "cell_type": "code",
   "execution_count": 64,
   "metadata": {},
   "outputs": [],
   "source": [
    "open_copy=open_copy.loc[:,['PAY_TERM', 'AGING', 'SEG_NUM_OVERDUE_INVOICES',\n",
    "       'SEG_NUM_OPEN_INVOICES', 'SEG_DSO', 'SEG_AVERAGE_DAYS_LATE',\n",
    "       'SEG_RISK_DEFAULT_VAL', 'SEG_PRIORITY_VAL', 'SEG_PROP_PAY',\n",
    "       'Invoice_cycle', 'AMOUNT_BUCKET']]"
   ]
  },
  {
   "cell_type": "markdown",
   "metadata": {},
   "source": [
    "# Concatting both Close and Open inorder to reslove the levelling issue"
   ]
  },
  {
   "cell_type": "code",
   "execution_count": 65,
   "metadata": {},
   "outputs": [],
   "source": [
    "open_copy['Flag']='Open'"
   ]
  },
  {
   "cell_type": "code",
   "execution_count": 66,
   "metadata": {},
   "outputs": [],
   "source": [
    "AR_omit['Flag']='Train'"
   ]
  },
  {
   "cell_type": "code",
   "execution_count": 67,
   "metadata": {},
   "outputs": [],
   "source": [
    "close_open_concat = pd.concat([open_copy, AR_omit])"
   ]
  },
  {
   "cell_type": "code",
   "execution_count": 68,
   "metadata": {},
   "outputs": [],
   "source": [
    "## Cleaning the NAN and Inf observation from the dataset\n",
    "close_open_concat=close_open_concat.replace([np.inf, -np.inf], np.nan)"
   ]
  },
  {
   "cell_type": "code",
   "execution_count": 69,
   "metadata": {},
   "outputs": [],
   "source": [
    "nan_values =  close_open_concat.isna()\n",
    "nan_columns = nan_values.any()\n",
    "columns_with_nan = close_open_concat.columns[nan_columns].tolist()"
   ]
  },
  {
   "cell_type": "code",
   "execution_count": 70,
   "metadata": {},
   "outputs": [],
   "source": [
    "close_open_concat = close_open_concat.apply(lambda x:x.fillna(x.mode().iloc[0]))"
   ]
  },
  {
   "cell_type": "code",
   "execution_count": 71,
   "metadata": {},
   "outputs": [],
   "source": [
    "#converting categorical variables to dummy variables\n",
    "close_open_concat_dummy=pd.get_dummies(close_open_concat, prefix=['PAY_TERM','SEG_PROP_PAY','AMOUNT_BUCKET'], columns=['PAY_TERM','SEG_PROP_PAY','AMOUNT_BUCKET'])"
   ]
  },
  {
   "cell_type": "code",
   "execution_count": 72,
   "metadata": {},
   "outputs": [],
   "source": [
    "AR_omit=close_open_concat_dummy[close_open_concat_dummy['Flag']=='Train']"
   ]
  },
  {
   "cell_type": "code",
   "execution_count": 73,
   "metadata": {},
   "outputs": [],
   "source": [
    "AR_omit=AR_omit.drop(['Flag'], axis=1)"
   ]
  },
  {
   "cell_type": "code",
   "execution_count": 74,
   "metadata": {},
   "outputs": [],
   "source": [
    "open_data=close_open_concat_dummy[close_open_concat_dummy['Flag']=='Open']"
   ]
  },
  {
   "cell_type": "code",
   "execution_count": 75,
   "metadata": {},
   "outputs": [],
   "source": [
    "## Only the Aging column for validation\n",
    "open_aging=open_data['AGING']"
   ]
  },
  {
   "cell_type": "code",
   "execution_count": 76,
   "metadata": {},
   "outputs": [],
   "source": [
    "open_data=open_data.drop(['Flag','AGING'], axis=1)"
   ]
  },
  {
   "cell_type": "markdown",
   "metadata": {},
   "source": [
    "# Building Model¶"
   ]
  },
  {
   "cell_type": "code",
   "execution_count": 77,
   "metadata": {},
   "outputs": [],
   "source": [
    "#model building with omitted data\n",
    "#separating input and output features\n",
    "x=AR_omit.drop(['AGING'],axis='columns',inplace=False)\n",
    "y=AR_omit['AGING']"
   ]
  },
  {
   "cell_type": "code",
   "execution_count": 78,
   "metadata": {},
   "outputs": [
    {
     "name": "stdout",
     "output_type": "stream",
     "text": [
      "(1966599, 174) (842829, 174) (1966599,) (842829,)\n"
     ]
    }
   ],
   "source": [
    "#splitting data into test and train\n",
    "X_train,X_test,y_train,y_test=train_test_split(x,y,test_size=0.3,random_state=3)\n",
    "print(X_train.shape,X_test.shape,y_train.shape,y_test.shape)"
   ]
  },
  {
   "cell_type": "code",
   "execution_count": 79,
   "metadata": {},
   "outputs": [
    {
     "name": "stdout",
     "output_type": "stream",
     "text": [
      "-2.289392035632376\n"
     ]
    }
   ],
   "source": [
    "### we are making a base model by using test data mean value. This is to set a benchmark and to compare with our regression model####\n",
    "\n",
    "#Finding the mean for test data value\n",
    "base_pred=np.mean(y_test)\n",
    "print(base_pred)"
   ]
  },
  {
   "cell_type": "code",
   "execution_count": 80,
   "metadata": {},
   "outputs": [
    {
     "name": "stdout",
     "output_type": "stream",
     "text": [
      "[-2.28939204 -2.28939204 -2.28939204 ... -2.28939204 -2.28939204\n",
      " -2.28939204]\n"
     ]
    }
   ],
   "source": [
    "#Repeating same value till length of test data\n",
    "base_pred=np.repeat(base_pred,len(y_test))\n",
    "print(base_pred)"
   ]
  },
  {
   "cell_type": "code",
   "execution_count": 81,
   "metadata": {},
   "outputs": [
    {
     "name": "stdout",
     "output_type": "stream",
     "text": [
      "38.97950836055369\n"
     ]
    }
   ],
   "source": [
    "#finding the RMSE\n",
    "base_root_mean_square_error=np.sqrt(mean_squared_error(y_test,base_pred))\n",
    "print(base_root_mean_square_error)"
   ]
  },
  {
   "cell_type": "code",
   "execution_count": 82,
   "metadata": {},
   "outputs": [],
   "source": [
    "##Linear Regression as true\n",
    "\n",
    "lgr=LinearRegression(fit_intercept=True)"
   ]
  },
  {
   "cell_type": "code",
   "execution_count": 83,
   "metadata": {},
   "outputs": [],
   "source": [
    "#Model\n",
    "model_lin1=lgr.fit(X_train,y_train)"
   ]
  },
  {
   "cell_type": "code",
   "execution_count": 84,
   "metadata": {},
   "outputs": [],
   "source": [
    "Age_prediction_lin1=model_lin1.predict(X_test)"
   ]
  },
  {
   "cell_type": "code",
   "execution_count": 85,
   "metadata": {},
   "outputs": [],
   "source": [
    "#Predicting on test set\n",
    "Age_prediction_lin1=model_lin1.predict(X_test)"
   ]
  },
  {
   "cell_type": "code",
   "execution_count": 86,
   "metadata": {},
   "outputs": [
    {
     "name": "stdout",
     "output_type": "stream",
     "text": [
      "10.39207329012952\n"
     ]
    }
   ],
   "source": [
    "#computing MSE and RMSE\n",
    "lin_mse1=mean_squared_error(y_test,Age_prediction_lin1)\n",
    "lin_remse1=np.sqrt(lin_mse1)\n",
    "print(lin_remse1)\n"
   ]
  },
  {
   "cell_type": "code",
   "execution_count": 87,
   "metadata": {},
   "outputs": [
    {
     "name": "stdout",
     "output_type": "stream",
     "text": [
      "0.9289225747052573 0.929295391463273\n"
     ]
    }
   ],
   "source": [
    "#R squared value\n",
    "r2_lin_test1=model_lin1.score(X_test,y_test)\n",
    "r2_lin_train1=model_lin1.score(X_train,y_train)\n",
    "print(r2_lin_test1,r2_lin_train1)"
   ]
  },
  {
   "cell_type": "code",
   "execution_count": 148,
   "metadata": {},
   "outputs": [
    {
     "data": {
      "image/png": "[encoded data removed]",
      "text/plain": [
       "<Figure size 864x648 with 1 Axes>"
      ]
     },
     "metadata": {
      "needs_background": "light"
     },
     "output_type": "display_data"
    }
   ],
   "source": [
    "# Error terms\n",
    "c = [i for i in range(len(Age_prediction_lin1))]\n",
    "plt.rcParams[\"axes.grid\"] = False\n",
    "fig = plt.figure(figsize=(12, 9))\n",
    "ax = plt.subplot(111)  \n",
    "plt.plot(c,y_test-Age_prediction_lin1, color=\"green\", linewidth=1.5, linestyle=\"-\")\n",
    "fig.suptitle('Residual Plot Analysis', fontsize=30)              # Plot heading \n",
    "plt.xlabel('Index', fontsize=18)                      # X-label\n",
    "plt.ylabel('Actual - Predicted', fontsize=20) # Y-label\n",
    "ax.set_facecolor('W')\n",
    "plt.show()\n",
    "ax.figure.savefig('C:/Users/YogeshGovindan/Desktop/AVNET/Model/Model_Image/Error_plot_AR.png', bbox_inches='tight', pad_inches=0.0);"
   ]
  },
  {
   "cell_type": "code",
   "execution_count": 146,
   "metadata": {},
   "outputs": [
    {
     "data": {
      "image/png": "[encoded data removed]",
      "text/plain": [
       "<Figure size 864x648 with 1 Axes>"
      ]
     },
     "metadata": {
      "needs_background": "light"
     },
     "output_type": "display_data"
    }
   ],
   "source": [
    "df = pd.DataFrame({'Actual': y_test, 'Predicted': Age_prediction_lin1})\n",
    "plt.rcParams[\"axes.grid\"] = False\n",
    "f, ax = plt.subplots(figsize=(12, 9))\n",
    "sns.regplot(x=\"Actual\", y=\"Predicted\", data=df, ax=ax,scatter_kws={\"color\": \"green\",'s':80,\"alpha\":0.3}, line_kws={\"color\": \"black\"});\n",
    "ax.set_facecolor('w')\n",
    "ax.figure.savefig('C:/Users/YogeshGovindan/Desktop/AVNET/Model/Model_Image/AR_ActualvsPredicted.png', bbox_inches='tight', pad_inches=0.0)"
   ]
  },
  {
   "cell_type": "markdown",
   "metadata": {},
   "source": [
    "# Predicting the Open Data set"
   ]
  },
  {
   "cell_type": "code",
   "execution_count": 89,
   "metadata": {},
   "outputs": [],
   "source": [
    "def diffbucket(predicted):\n",
    "    if predicted<=(30):\n",
    "        return \"till 30 days\"\n",
    "    elif predicted>(30) and predicted<=45:\n",
    "        return 'B_31 TO 45 DAYS'\n",
    "    elif predicted>(45) and predicted<=60:\n",
    "        return 'C_45 TO 60 DAYS'\n",
    "    elif predicted>(60) and predicted<=120:\n",
    "        return 'D_60 TO 120 DAYS'\n",
    "    else: return 'E_>120 DAYS'"
   ]
  },
  {
   "cell_type": "code",
   "execution_count": 90,
   "metadata": {},
   "outputs": [],
   "source": [
    "#Predicting on test set\n",
    "Age_Open_pred_lin=model_lin1.predict(open_data)"
   ]
  },
  {
   "cell_type": "code",
   "execution_count": 91,
   "metadata": {},
   "outputs": [
    {
     "name": "stdout",
     "output_type": "stream",
     "text": [
      "51.914020882211354\n"
     ]
    }
   ],
   "source": [
    "#computing MSE and RMSE\n",
    "lin_mse2=mean_squared_error(open_aging,Age_Open_pred_lin)\n",
    "lin_remse2=np.sqrt(lin_mse2)\n",
    "print(lin_remse2)"
   ]
  },
  {
   "cell_type": "code",
   "execution_count": 92,
   "metadata": {},
   "outputs": [
    {
     "data": {
      "text/plain": [
       "count   270935.00\n",
       "mean        17.71\n",
       "std         48.80\n",
       "min       -285.07\n",
       "25%         -4.64\n",
       "50%          0.33\n",
       "75%         18.03\n",
       "max       3144.97\n",
       "Name: AGING, dtype: float64"
      ]
     },
     "execution_count": 92,
     "metadata": {},
     "output_type": "execute_result"
    },
    {
     "data": {
      "image/png": "[encoded data removed]",
      "text/plain": [
       "<Figure size 432x288 with 1 Axes>"
      ]
     },
     "metadata": {
      "needs_background": "light"
     },
     "output_type": "display_data"
    }
   ],
   "source": [
    "#Regression diagnostics-Residual plot analysis\n",
    "residuals2=open_aging-Age_Open_pred_lin\n",
    "sns.regplot(x=Age_Open_pred_lin,y=residuals2,scatter=True,fit_reg=False)\n",
    "residuals2.describe()"
   ]
  },
  {
   "cell_type": "code",
   "execution_count": 93,
   "metadata": {},
   "outputs": [
    {
     "name": "stdout",
     "output_type": "stream",
     "text": [
      "0.9732500003737153\n"
     ]
    }
   ],
   "source": [
    "#R squared value\n",
    "r2_lin_test1=model_lin1.score(open_data,open_aging)\n",
    "\n",
    "print(r2_lin_test1)"
   ]
  },
  {
   "cell_type": "markdown",
   "metadata": {},
   "source": [
    "# Concating with the Raw_Open data"
   ]
  },
  {
   "cell_type": "code",
   "execution_count": 94,
   "metadata": {},
   "outputs": [],
   "source": [
    "open_raw_copy=open_raw_no_disp.copy()"
   ]
  },
  {
   "cell_type": "code",
   "execution_count": 95,
   "metadata": {},
   "outputs": [],
   "source": [
    "open_raw_copy['DOC_DATE']=pd.to_datetime(open_raw_copy['DOC_DATE'])\n",
    "open_raw_copy['POSTINGDATE']=pd.to_datetime(open_raw_copy['POSTINGDATE'])\n",
    "open_raw_copy['NETDUEDATE']=pd.to_datetime(open_raw_copy['NETDUEDATE'])\n",
    "open_raw_copy['CLEARINGDA']=pd.to_datetime(open_raw_copy['CLEARINGDA'])"
   ]
  },
  {
   "cell_type": "code",
   "execution_count": 96,
   "metadata": {},
   "outputs": [],
   "source": [
    "#open_raw_copy['NETDUEDATE'] = open_raw_copy['NETDUEDATE'].replace(np.nan, 0)"
   ]
  },
  {
   "cell_type": "code",
   "execution_count": 97,
   "metadata": {},
   "outputs": [],
   "source": [
    "#open_raw_copy['NETDUEDATE']=pd.to_datetime(open_raw_copy['NETDUEDATE'])"
   ]
  },
  {
   "cell_type": "code",
   "execution_count": 98,
   "metadata": {},
   "outputs": [],
   "source": [
    "open_raw_copy['NETDUEDATE_year']=pd.DatetimeIndex(open_raw_copy['NETDUEDATE']).year"
   ]
  },
  {
   "cell_type": "code",
   "execution_count": 99,
   "metadata": {},
   "outputs": [
    {
     "data": {
      "text/plain": [
       "2006.00         1\n",
       "2007.00         1\n",
       "2008.00         1\n",
       "2009.00       153\n",
       "2010.00       225\n",
       "2011.00       221\n",
       "2012.00       202\n",
       "2013.00        29\n",
       "2014.00        66\n",
       "2015.00       126\n",
       "2016.00       687\n",
       "2017.00      2372\n",
       "2018.00      7860\n",
       "2019.00     22754\n",
       "2020.00    174542\n",
       "2021.00     61693\n",
       "Name: NETDUEDATE_year, dtype: int64"
      ]
     },
     "execution_count": 99,
     "metadata": {},
     "output_type": "execute_result"
    }
   ],
   "source": [
    "open_raw_copy['NETDUEDATE_year'].value_counts().sort_index()"
   ]
  },
  {
   "cell_type": "code",
   "execution_count": 100,
   "metadata": {},
   "outputs": [],
   "source": [
    "open_raw_copy['predicted']=Age_Open_pred_lin"
   ]
  },
  {
   "cell_type": "code",
   "execution_count": 101,
   "metadata": {},
   "outputs": [],
   "source": [
    "open_raw_copy['open_date']=pd.Timestamp('2020-10-31')"
   ]
  },
  {
   "cell_type": "code",
   "execution_count": 102,
   "metadata": {},
   "outputs": [],
   "source": [
    "open_raw_copy['predicted1']=np.where(open_raw_copy['predicted']>120,120,open_raw_copy['predicted'])"
   ]
  },
  {
   "cell_type": "code",
   "execution_count": 103,
   "metadata": {},
   "outputs": [],
   "source": [
    "open_raw_copy['Pred_bucket']=open_raw_copy.apply(lambda x:diffbucket(x['predicted1']),axis=1)"
   ]
  },
  {
   "cell_type": "code",
   "execution_count": 104,
   "metadata": {},
   "outputs": [
    {
     "data": {
      "text/plain": [
       "till 30 days       0.79\n",
       "D_60 TO 120 DAYS   0.19\n",
       "C_45 TO 60 DAYS    0.01\n",
       "B_31 TO 45 DAYS    0.01\n",
       "Name: Pred_bucket, dtype: float64"
      ]
     },
     "execution_count": 104,
     "metadata": {},
     "output_type": "execute_result"
    }
   ],
   "source": [
    "open_raw_copy['Pred_bucket'].value_counts(normalize=True)"
   ]
  },
  {
   "cell_type": "code",
   "execution_count": 105,
   "metadata": {},
   "outputs": [],
   "source": [
    "open_raw_copy[\"Pred_clearing_date\"] = pd.to_datetime(open_raw_copy[\"NETDUEDATE\"]) + pd.to_timedelta(open_raw_copy['predicted1'], unit='D')"
   ]
  },
  {
   "cell_type": "code",
   "execution_count": 106,
   "metadata": {},
   "outputs": [],
   "source": [
    "before_AR_31st_oct=open_raw_copy[open_raw_copy['Pred_clearing_date']<pd.Timestamp('2020-10-31')]"
   ]
  },
  {
   "cell_type": "code",
   "execution_count": 107,
   "metadata": {},
   "outputs": [
    {
     "data": {
      "text/plain": [
       "(139093, 74)"
      ]
     },
     "execution_count": 107,
     "metadata": {},
     "output_type": "execute_result"
    }
   ],
   "source": [
    "before_AR_31st_oct.shape"
   ]
  },
  {
   "cell_type": "code",
   "execution_count": 108,
   "metadata": {},
   "outputs": [],
   "source": [
    "x=before_AR_31st_oct.shape[0]"
   ]
  },
  {
   "cell_type": "code",
   "execution_count": 109,
   "metadata": {},
   "outputs": [],
   "source": [
    "y=open_raw_copy.shape[0]"
   ]
  },
  {
   "cell_type": "code",
   "execution_count": 110,
   "metadata": {},
   "outputs": [
    {
     "data": {
      "text/plain": [
       "0.5133814383523724"
      ]
     },
     "execution_count": 110,
     "metadata": {},
     "output_type": "execute_result"
    }
   ],
   "source": [
    "x/y"
   ]
  },
  {
   "cell_type": "code",
   "execution_count": 111,
   "metadata": {},
   "outputs": [],
   "source": [
    "#open_raw_copy[\"Pred_clearing_date1\"]=np.where(open_raw_copy[\"Pred_clearing_date\"]<open_raw_copy['open_date'],open_raw_copy['open_date']+pd.to_timedelta(-15,unit='D'),open_raw_copy[\"Pred_clearing_date\"])"
   ]
  },
  {
   "cell_type": "code",
   "execution_count": 112,
   "metadata": {},
   "outputs": [],
   "source": [
    "open_raw_copy[\"Pred_clearing_date1\"]=np.where(open_raw_copy[\"Pred_clearing_date\"]<open_raw_copy['open_date'],open_raw_copy['open_date'],open_raw_copy[\"Pred_clearing_date\"])"
   ]
  },
  {
   "cell_type": "code",
   "execution_count": 113,
   "metadata": {},
   "outputs": [],
   "source": [
    "open_raw_copy['Pred_clearing_date1']=np.where(open_raw_copy['Pred_clearing_date1'].isnull(),open_raw_copy['open_date'],open_raw_copy['Pred_clearing_date1'])"
   ]
  },
  {
   "cell_type": "code",
   "execution_count": 114,
   "metadata": {},
   "outputs": [],
   "source": [
    "before_AR_31st_oct_p=open_raw_copy[open_raw_copy['Pred_clearing_date1']<pd.Timestamp('2020-10-31')]"
   ]
  },
  {
   "cell_type": "code",
   "execution_count": 115,
   "metadata": {},
   "outputs": [
    {
     "data": {
      "text/plain": [
       "0.0"
      ]
     },
     "execution_count": 115,
     "metadata": {},
     "output_type": "execute_result"
    }
   ],
   "source": [
    "a=before_AR_31st_oct_p.shape[0]\n",
    "b=open_raw_copy.shape[0]\n",
    "a/b"
   ]
  },
  {
   "cell_type": "code",
   "execution_count": 116,
   "metadata": {},
   "outputs": [],
   "source": [
    "open_raw_copy['Pred_clearing_date_year1']=pd.DatetimeIndex(open_raw_copy['Pred_clearing_date1']).year"
   ]
  },
  {
   "cell_type": "code",
   "execution_count": 117,
   "metadata": {},
   "outputs": [
    {
     "data": {
      "text/plain": [
       "2020   0.77\n",
       "2021   0.23\n",
       "Name: Pred_clearing_date_year1, dtype: float64"
      ]
     },
     "execution_count": 117,
     "metadata": {},
     "output_type": "execute_result"
    }
   ],
   "source": [
    "open_raw_copy['Pred_clearing_date_year1'].value_counts(normalize=True)"
   ]
  },
  {
   "cell_type": "code",
   "execution_count": 118,
   "metadata": {},
   "outputs": [],
   "source": [
    "open_raw_copy['Predicted_month_year'] = pd.to_datetime(open_raw_copy['Pred_clearing_date1']).dt.to_period('M')"
   ]
  },
  {
   "cell_type": "code",
   "execution_count": 119,
   "metadata": {},
   "outputs": [
    {
     "data": {
      "text/plain": [
       "2020-10   0.52\n",
       "2020-11   0.14\n",
       "2020-12   0.11\n",
       "2021-01   0.06\n",
       "2021-02   0.03\n",
       "2021-03   0.06\n",
       "2021-04   0.04\n",
       "2021-05   0.03\n",
       "2021-06   0.01\n",
       "2021-07   0.00\n",
       "Freq: M, Name: Predicted_month_year, dtype: float64"
      ]
     },
     "execution_count": 119,
     "metadata": {},
     "output_type": "execute_result"
    }
   ],
   "source": [
    "open_raw_copy['Predicted_month_year'].value_counts(normalize=True).sort_index()"
   ]
  },
  {
   "cell_type": "code",
   "execution_count": 120,
   "metadata": {},
   "outputs": [
    {
     "data": {
      "text/plain": [
       "(270935, 77)"
      ]
     },
     "execution_count": 120,
     "metadata": {},
     "output_type": "execute_result"
    }
   ],
   "source": [
    "open_raw_copy.shape"
   ]
  },
  {
   "cell_type": "code",
   "execution_count": 121,
   "metadata": {},
   "outputs": [
    {
     "data": {
      "text/plain": [
       "Index(['OPEN_INV_NUM', 'NETDUEDATE', 'SYSTEM', 'DOCUMENTNO', 'ITEMNO',\n",
       "       'FISCALYEAR', 'COMPCODE', 'CUSTOMER', 'CLEARINGDA', 'CLEARINGDOC',\n",
       "       'ASSIGNMENT', 'POSTINGDATE', 'DOC_DATE', 'CREATEDON', 'CURR',\n",
       "       'REFERENCEDOCNO', 'DOC_TYPE', 'FISCALPERIOD', 'POSTINGKEY', 'D_CIND',\n",
       "       'AMOUNT', 'ITEMTXT', 'GLACCOUNT', 'BASELINEDATE', 'PAY_TERM',\n",
       "       'DIS_DAY1', 'DIS_DAY2', 'NETPAY_TERM', 'DIS_PER1', 'DIS_PER2',\n",
       "       'DIS_BASE', 'DIS_AMOUNT', 'PAYMETHOD', 'INV_REF', 'INV_REFFISCAL',\n",
       "       'INV_REFITEM', 'INV_LIST', 'DUNNBLOCK', 'LASTDUNNDATE', 'DUNNLEVEL',\n",
       "       'DUNNAREA', 'REASONCODE', 'XREF1', 'XREF2', 'PAYREF', 'TCODE',\n",
       "       'DOCHDR_TXT', 'EXC_RATE', 'GRP_CURR', 'GRP_CURREXCRATE', 'REFTCODE',\n",
       "       'REFERENCEKEY', 'XREF1HD', 'XREF2HD', 'XREF3', 'VERSION', 'CUST_NAME',\n",
       "       'RISKCLASS', 'RISKCLASS_DESC', 'DPT_NDPT', 'OVERDUE_FLAG', 'AGING',\n",
       "       'AGING_BUCKET', 'INT_OR_EXT_COMP', 'ACCNTGROUP', 'ACCOUNTGROUP_DESC',\n",
       "       'DISPUTE_FLAG', 'AMT_USD', 'NETDUEDATE_year', 'predicted', 'open_date',\n",
       "       'predicted1', 'Pred_bucket', 'Pred_clearing_date',\n",
       "       'Pred_clearing_date1', 'Pred_clearing_date_year1',\n",
       "       'Predicted_month_year'],\n",
       "      dtype='object')"
      ]
     },
     "execution_count": 121,
     "metadata": {},
     "output_type": "execute_result"
    }
   ],
   "source": [
    "open_raw_copy.columns"
   ]
  },
  {
   "cell_type": "markdown",
   "metadata": {},
   "source": [
    "# Required column selection and seperating the open data into dispute and non dispute for final prediction"
   ]
  },
  {
   "cell_type": "code",
   "execution_count": 122,
   "metadata": {},
   "outputs": [],
   "source": [
    "Open_Nondsipute=open_raw_copy.loc[:,['DOCUMENTNO','ITEMNO','Pred_clearing_date1']] #selecing only the required columns from the Non dispute open data"
   ]
  },
  {
   "cell_type": "code",
   "execution_count": 123,
   "metadata": {},
   "outputs": [
    {
     "data": {
      "text/html": [
       "<div>\n",
       "<style scoped>\n",
       "    .dataframe tbody tr th:only-of-type {\n",
       "        vertical-align: middle;\n",
       "    }\n",
       "\n",
       "    .dataframe tbody tr th {\n",
       "        vertical-align: top;\n",
       "    }\n",
       "\n",
       "    .dataframe thead th {\n",
       "        text-align: right;\n",
       "    }\n",
       "</style>\n",
       "<table border=\"1\" class=\"dataframe\">\n",
       "  <thead>\n",
       "    <tr style=\"text-align: right;\">\n",
       "      <th></th>\n",
       "      <th>DOCUMENTNO</th>\n",
       "      <th>ITEMNO</th>\n",
       "      <th>Pred_clearing_date1</th>\n",
       "    </tr>\n",
       "  </thead>\n",
       "  <tbody>\n",
       "    <tr>\n",
       "      <th>0</th>\n",
       "      <td>9011110108</td>\n",
       "      <td>3</td>\n",
       "      <td>2020-10-31</td>\n",
       "    </tr>\n",
       "    <tr>\n",
       "      <th>1</th>\n",
       "      <td>9011133233</td>\n",
       "      <td>10</td>\n",
       "      <td>2020-10-31</td>\n",
       "    </tr>\n",
       "    <tr>\n",
       "      <th>2</th>\n",
       "      <td>9011134254</td>\n",
       "      <td>5</td>\n",
       "      <td>2020-10-31</td>\n",
       "    </tr>\n",
       "    <tr>\n",
       "      <th>4</th>\n",
       "      <td>9011137413</td>\n",
       "      <td>30</td>\n",
       "      <td>2020-10-31</td>\n",
       "    </tr>\n",
       "    <tr>\n",
       "      <th>5</th>\n",
       "      <td>9011118988</td>\n",
       "      <td>64</td>\n",
       "      <td>2020-10-31</td>\n",
       "    </tr>\n",
       "  </tbody>\n",
       "</table>\n",
       "</div>"
      ],
      "text/plain": [
       "   DOCUMENTNO  ITEMNO Pred_clearing_date1\n",
       "0  9011110108       3          2020-10-31\n",
       "1  9011133233      10          2020-10-31\n",
       "2  9011134254       5          2020-10-31\n",
       "4  9011137413      30          2020-10-31\n",
       "5  9011118988      64          2020-10-31"
      ]
     },
     "execution_count": 123,
     "metadata": {},
     "output_type": "execute_result"
    }
   ],
   "source": [
    "Open_Nondsipute.head()"
   ]
  },
  {
   "cell_type": "code",
   "execution_count": 124,
   "metadata": {},
   "outputs": [
    {
     "data": {
      "text/plain": [
       "DOCUMENTNO             0\n",
       "ITEMNO                 0\n",
       "Pred_clearing_date1    0\n",
       "dtype: int64"
      ]
     },
     "execution_count": 124,
     "metadata": {},
     "output_type": "execute_result"
    }
   ],
   "source": [
    "Open_Nondsipute.isna().sum()"
   ]
  },
  {
   "cell_type": "code",
   "execution_count": 125,
   "metadata": {},
   "outputs": [],
   "source": [
    "Open_dispute=open_raw_disp.loc[:,['DOCUMENTNO','ITEMNO']] ## selecing only the required columns from the dispute open data"
   ]
  },
  {
   "cell_type": "code",
   "execution_count": 126,
   "metadata": {},
   "outputs": [],
   "source": [
    "Open_dispute['Pred_clearing_date1']=pd.Timestamp('2090-10-31') #Note: in dispute data an imaginary date of '2090-10-31' is assigned to maintain the format)"
   ]
  },
  {
   "cell_type": "code",
   "execution_count": 127,
   "metadata": {},
   "outputs": [
    {
     "data": {
      "text/html": [
       "<div>\n",
       "<style scoped>\n",
       "    .dataframe tbody tr th:only-of-type {\n",
       "        vertical-align: middle;\n",
       "    }\n",
       "\n",
       "    .dataframe tbody tr th {\n",
       "        vertical-align: top;\n",
       "    }\n",
       "\n",
       "    .dataframe thead th {\n",
       "        text-align: right;\n",
       "    }\n",
       "</style>\n",
       "<table border=\"1\" class=\"dataframe\">\n",
       "  <thead>\n",
       "    <tr style=\"text-align: right;\">\n",
       "      <th></th>\n",
       "      <th>DOCUMENTNO</th>\n",
       "      <th>ITEMNO</th>\n",
       "      <th>Pred_clearing_date1</th>\n",
       "    </tr>\n",
       "  </thead>\n",
       "  <tbody>\n",
       "    <tr>\n",
       "      <th>3</th>\n",
       "      <td>9011118913</td>\n",
       "      <td>34</td>\n",
       "      <td>2090-10-31</td>\n",
       "    </tr>\n",
       "    <tr>\n",
       "      <th>50</th>\n",
       "      <td>9011133213</td>\n",
       "      <td>10</td>\n",
       "      <td>2090-10-31</td>\n",
       "    </tr>\n",
       "    <tr>\n",
       "      <th>101</th>\n",
       "      <td>9011092383</td>\n",
       "      <td>10</td>\n",
       "      <td>2090-10-31</td>\n",
       "    </tr>\n",
       "    <tr>\n",
       "      <th>180</th>\n",
       "      <td>9011124000</td>\n",
       "      <td>4</td>\n",
       "      <td>2090-10-31</td>\n",
       "    </tr>\n",
       "    <tr>\n",
       "      <th>206</th>\n",
       "      <td>9011056080</td>\n",
       "      <td>7</td>\n",
       "      <td>2090-10-31</td>\n",
       "    </tr>\n",
       "  </tbody>\n",
       "</table>\n",
       "</div>"
      ],
      "text/plain": [
       "     DOCUMENTNO  ITEMNO Pred_clearing_date1\n",
       "3    9011118913      34          2090-10-31\n",
       "50   9011133213      10          2090-10-31\n",
       "101  9011092383      10          2090-10-31\n",
       "180  9011124000       4          2090-10-31\n",
       "206  9011056080       7          2090-10-31"
      ]
     },
     "execution_count": 127,
     "metadata": {},
     "output_type": "execute_result"
    }
   ],
   "source": [
    "Open_dispute.head()"
   ]
  },
  {
   "cell_type": "markdown",
   "metadata": {},
   "source": [
    "# concating both dispute and non dispute "
   ]
  },
  {
   "cell_type": "code",
   "execution_count": 128,
   "metadata": {},
   "outputs": [],
   "source": [
    "Predicted_final = pd.concat([Open_Nondsipute, Open_dispute])"
   ]
  },
  {
   "cell_type": "code",
   "execution_count": 129,
   "metadata": {},
   "outputs": [],
   "source": [
    "Predicted_final['Pred_clearing_date1'] = pd.to_datetime(Predicted_final['Pred_clearing_date1']).dt.date"
   ]
  },
  {
   "cell_type": "markdown",
   "metadata": {},
   "source": [
    "# Returns the week of the month for the specified date"
   ]
  },
  {
   "cell_type": "code",
   "execution_count": 130,
   "metadata": {},
   "outputs": [],
   "source": [
    "from math import ceil\n",
    "\n",
    "def week_of_month(dt):\n",
    "    \"\"\" Returns the week of the month for the specified date.\n",
    "    \"\"\"\n",
    "\n",
    "    first_day = dt.replace(day=1)\n",
    "\n",
    "    dom = dt.day\n",
    "    adjusted_dom = dom + first_day.weekday()\n",
    "\n",
    "    return int(ceil(adjusted_dom/7.0))"
   ]
  },
  {
   "cell_type": "code",
   "execution_count": 131,
   "metadata": {},
   "outputs": [],
   "source": [
    "Predicted_final['Week_predicted']=Predicted_final.apply(lambda x:week_of_month(x['Pred_clearing_date1']),axis=1)"
   ]
  },
  {
   "cell_type": "code",
   "execution_count": 132,
   "metadata": {},
   "outputs": [],
   "source": [
    "Predicted_final['DOCUMENTNO']=Predicted_final['DOCUMENTNO'].apply(str)"
   ]
  },
  {
   "cell_type": "code",
   "execution_count": 133,
   "metadata": {},
   "outputs": [],
   "source": [
    "Predicted_final['ITEMNO']=Predicted_final['ITEMNO'].apply(str)"
   ]
  },
  {
   "cell_type": "markdown",
   "metadata": {},
   "source": [
    "# Checking the distribution of the predicted date for validation"
   ]
  },
  {
   "cell_type": "code",
   "execution_count": 134,
   "metadata": {},
   "outputs": [],
   "source": [
    "Predicted_final_test=Predicted_final.copy()"
   ]
  },
  {
   "cell_type": "code",
   "execution_count": 135,
   "metadata": {},
   "outputs": [],
   "source": [
    "Predicted_final_test['Predicted_month_year'] = pd.to_datetime(Predicted_final_test['Pred_clearing_date1']).dt.to_period('M')"
   ]
  },
  {
   "cell_type": "code",
   "execution_count": 136,
   "metadata": {},
   "outputs": [
    {
     "data": {
      "text/plain": [
       "2020-10   0.51\n",
       "2020-11   0.14\n",
       "2020-12   0.10\n",
       "2021-01   0.06\n",
       "2021-02   0.03\n",
       "2021-03   0.05\n",
       "2021-04   0.04\n",
       "2021-05   0.03\n",
       "2021-06   0.01\n",
       "2021-07   0.00\n",
       "2090-10   0.02\n",
       "Freq: M, Name: Predicted_month_year, dtype: float64"
      ]
     },
     "execution_count": 136,
     "metadata": {},
     "output_type": "execute_result"
    }
   ],
   "source": [
    "Predicted_final_test['Predicted_month_year'].value_counts(normalize=True).sort_index()"
   ]
  },
  {
   "cell_type": "markdown",
   "metadata": {},
   "source": [
    "# Loadin the output to DB"
   ]
  },
  {
   "cell_type": "code",
   "execution_count": 137,
   "metadata": {},
   "outputs": [],
   "source": [
    "# tuple_of_tuples = tuple([tuple(x) for x in Predicted_final.values])"
   ]
  },
  {
   "cell_type": "code",
   "execution_count": 138,
   "metadata": {},
   "outputs": [],
   "source": [
    "# load_db2_sql = \"INSERT INTO avent.ar_open_prediction_Agg VALUES(?,?,?,?)\"\n",
    "# print(load_db2_sql)"
   ]
  },
  {
   "cell_type": "code",
   "execution_count": 139,
   "metadata": {},
   "outputs": [],
   "source": [
    "# stmt = ibm_db.prepare(conn, load_db2_sql)"
   ]
  },
  {
   "cell_type": "code",
   "execution_count": 140,
   "metadata": {},
   "outputs": [],
   "source": [
    "# ibm_db.execute_many(stmt, tuple_of_tuples)"
   ]
  },
  {
   "cell_type": "markdown",
   "metadata": {},
   "source": [
    "# Joblib###"
   ]
  },
  {
   "cell_type": "code",
   "execution_count": 155,
   "metadata": {},
   "outputs": [],
   "source": [
    "# import os\n",
    "# cwd=os.getcwd()"
   ]
  },
  {
   "cell_type": "code",
   "execution_count": 156,
   "metadata": {},
   "outputs": [
    {
     "data": {
      "text/plain": [
       "'C:\\\\Users\\\\YogeshGovindan'"
      ]
     },
     "execution_count": 156,
     "metadata": {},
     "output_type": "execute_result"
    }
   ],
   "source": [
    "# cwd"
   ]
  },
  {
   "cell_type": "code",
   "execution_count": 157,
   "metadata": {},
   "outputs": [],
   "source": [
    "# os.chdir('C:\\\\Users\\\\YogeshGovindan\\\\Desktop\\\\AVNET\\\\Model')"
   ]
  },
  {
   "cell_type": "code",
   "execution_count": 162,
   "metadata": {},
   "outputs": [],
   "source": [
    "# import joblib"
   ]
  },
  {
   "cell_type": "code",
   "execution_count": 163,
   "metadata": {},
   "outputs": [
    {
     "data": {
      "text/plain": [
       "['nestle_model']"
      ]
     },
     "execution_count": 163,
     "metadata": {},
     "output_type": "execute_result"
    }
   ],
   "source": [
    "# joblib.dump(model_lin1,'nestle_model')"
   ]
  },
  {
   "cell_type": "code",
   "execution_count": 165,
   "metadata": {},
   "outputs": [],
   "source": [
    "# mj=joblib.load('nestle_model')"
   ]
  },
  {
   "cell_type": "code",
   "execution_count": 166,
   "metadata": {},
   "outputs": [],
   "source": [
    "# Age_prediction_lin3=mj.predict(open_data)"
   ]
  },
  {
   "cell_type": "code",
   "execution_count": 167,
   "metadata": {},
   "outputs": [
    {
     "data": {
      "text/plain": [
       "array([-14.95743259, -31.10062401, -16.19675815, ..., -14.32204704,\n",
       "        11.07555544,  11.07555544])"
      ]
     },
     "execution_count": 167,
     "metadata": {},
     "output_type": "execute_result"
    }
   ],
   "source": [
    "# Age_prediction_lin3"
   ]
  }
 ],
 "metadata": {
  "kernelspec": {
   "display_name": "Python 3",
   "language": "python",
   "name": "python3"
  },
  "language_info": {
   "codemirror_mode": {
    "name": "ipython",
    "version": 3
   },
   "file_extension": ".py",
   "mimetype": "text/x-python",
   "name": "python",
   "nbconvert_exporter": "python",
   "pygments_lexer": "ipython3",
   "version": "3.7.1"
  }
 },
 "nbformat": 4,
 "nbformat_minor": 2
}
